{
 "cells": [
  {
   "cell_type": "code",
   "execution_count": 30,
   "metadata": {},
   "outputs": [],
   "source": [
    "# Program, Python kullanarak elastik aramada her pdf dosyasının indeksini oluşturmaktır."
   ]
  },
  {
   "cell_type": "code",
   "execution_count": 31,
   "metadata": {},
   "outputs": [
    {
     "ename": "IndentationError",
     "evalue": "unexpected indent (<ipython-input-31-4ce35c990d66>, line 2)",
     "output_type": "error",
     "traceback": [
      "\u001b[1;36m  File \u001b[1;32m\"<ipython-input-31-4ce35c990d66>\"\u001b[1;36m, line \u001b[1;32m2\u001b[0m\n\u001b[1;33m    -> Dizin oluşturmak ve aramak için Elasticsearch\u001b[0m\n\u001b[1;37m    ^\u001b[0m\n\u001b[1;31mIndentationError\u001b[0m\u001b[1;31m:\u001b[0m unexpected indent\n"
     ]
    }
   ],
   "source": [
    "# Burada gerekli paketi içe aktardım\n",
    "     -> Dizin oluşturmak ve aramak için Elasticsearch\n",
    "     -> os ve glob dizini ayarlamak ve tüm pdf dosyaları dizinine erişim sağlamak için\n",
    "     -> PyPDF2, tüm pdf dosyalarını okumanın anahtarıdır\n",
    "     -> Ve Pandas, okunan metinden veri çerçevesi oluşturma paketidir."
   ]
  },
  {
   "cell_type": "code",
   "execution_count": 33,
   "metadata": {},
   "outputs": [],
   "source": [
    "from elasticsearch import Elasticsearch\n",
    "import os\n",
    "import glob\n",
    "import PyPDF2\n",
    "import pandas as pd"
   ]
  },
  {
   "cell_type": "code",
   "execution_count": 34,
   "metadata": {},
   "outputs": [],
   "source": [
    "# karakter işlevi, okunan pdf dosyalarından veri çerçevesini oluşturur"
   ]
  },
  {
   "cell_type": "code",
   "execution_count": 35,
   "metadata": {},
   "outputs": [
    {
     "ename": "FileNotFoundError",
     "evalue": "[WinError 2] Sistem belirtilen dosyayı bulamıyor: './Books/'",
     "output_type": "error",
     "traceback": [
      "\u001b[1;31m---------------------------------------------------------------------------\u001b[0m",
      "\u001b[1;31mFileNotFoundError\u001b[0m                         Traceback (most recent call last)",
      "\u001b[1;32m<ipython-input-35-cc78479841f7>\u001b[0m in \u001b[0;36m<module>\u001b[1;34m\u001b[0m\n\u001b[1;32m----> 1\u001b[1;33m \u001b[0mos\u001b[0m\u001b[1;33m.\u001b[0m\u001b[0mchdir\u001b[0m\u001b[1;33m(\u001b[0m\u001b[1;34m\"./Books/\"\u001b[0m\u001b[1;33m)\u001b[0m\u001b[1;33m\u001b[0m\u001b[1;33m\u001b[0m\u001b[0m\n\u001b[0m\u001b[0;32m      2\u001b[0m \u001b[0mfiles\u001b[0m \u001b[1;33m=\u001b[0m \u001b[0mglob\u001b[0m\u001b[1;33m.\u001b[0m\u001b[0mglob\u001b[0m\u001b[1;33m(\u001b[0m\u001b[1;34m\"*.*\"\u001b[0m\u001b[1;33m)\u001b[0m\u001b[1;33m\u001b[0m\u001b[1;33m\u001b[0m\u001b[0m\n",
      "\u001b[1;31mFileNotFoundError\u001b[0m: [WinError 2] Sistem belirtilen dosyayı bulamıyor: './Books/'"
     ]
    }
   ],
   "source": [
    "os.chdir(\"./Books/\")\n",
    "files = glob.glob(\"*.*\")"
   ]
  },
  {
   "cell_type": "code",
   "execution_count": 3,
   "metadata": {},
   "outputs": [
    {
     "data": {
      "text/plain": [
       "11"
      ]
     },
     "execution_count": 3,
     "metadata": {},
     "output_type": "execute_result"
    }
   ],
   "source": [
    "len(files)"
   ]
  },
  {
   "cell_type": "code",
   "execution_count": 4,
   "metadata": {
    "scrolled": true
   },
   "outputs": [
    {
     "name": "stdout",
     "output_type": "stream",
     "text": [
      "ch1.pdf\n",
      "data-mining-concepts-and-techniques-2nd-edition-impressao.pdf\n",
      "Data-Mining.pdf\n",
      "DSA_Book.pdf\n",
      "NIC225296.pdf\n",
      "Parallel computing.pdf\n",
      "pyspark.pdf\n",
      "s9449-building-a-distributed-gpu-dataframe-with-python_V2.pdf\n",
      "s9577-rapids-the-platform-inside-and-out.pdf\n",
      "thebook.pdf\n",
      "[Joel_Grus]_Data_Science_from_Scratch_First_Princ.pdf\n"
     ]
    }
   ],
   "source": [
    "for book in files:\n",
    "    print(book)"
   ]
  },
  {
   "cell_type": "code",
   "execution_count": null,
   "metadata": {},
   "outputs": [],
   "source": [
    "# aşağıdaki işlev, okunan pdf dosyalarından veri çerçevesi oluşturur"
   ]
  },
  {
   "cell_type": "code",
   "execution_count": 5,
   "metadata": {},
   "outputs": [],
   "source": [
    "def create_dataframe(files):\n",
    "    this_loc = 1\n",
    "    df = pd.DataFrame(columns=['Name',\"Pages\",\"Content\"])\n",
    "    \n",
    "    for file in files:\n",
    "        pdfFileObj = open(file,'rb')\n",
    "        pdfreader = PyPDF2.PdfFileReader(pdfFileObj)\n",
    "        n_pages = pdfreader.numPages\n",
    "        this_doc = ''\n",
    "        for i in range(n_pages):\n",
    "            pageObj = pdfreader.getPage(i)\n",
    "            this_doc += pageObj.extractText()\n",
    "        df.loc[this_loc]= file, pdfreader.getNumPages(),this_doc\n",
    "        this_loc = this_loc + 1\n",
    "    return df"
   ]
  },
  {
   "cell_type": "code",
   "execution_count": 6,
   "metadata": {},
   "outputs": [
    {
     "name": "stderr",
     "output_type": "stream",
     "text": [
      "PdfReadWarning: Xref table not zero-indexed. ID numbers for objects will be corrected. [pdf.py:1736]\n"
     ]
    }
   ],
   "source": [
    "df = create_dataframe(files)"
   ]
  },
  {
   "cell_type": "code",
   "execution_count": 7,
   "metadata": {},
   "outputs": [
    {
     "data": {
      "text/html": [
       "<div>\n",
       "<style scoped>\n",
       "    .dataframe tbody tr th:only-of-type {\n",
       "        vertical-align: middle;\n",
       "    }\n",
       "\n",
       "    .dataframe tbody tr th {\n",
       "        vertical-align: top;\n",
       "    }\n",
       "\n",
       "    .dataframe thead th {\n",
       "        text-align: right;\n",
       "    }\n",
       "</style>\n",
       "<table border=\"1\" class=\"dataframe\">\n",
       "  <thead>\n",
       "    <tr style=\"text-align: right;\">\n",
       "      <th></th>\n",
       "      <th>Name</th>\n",
       "      <th>Pages</th>\n",
       "      <th>Content</th>\n",
       "    </tr>\n",
       "  </thead>\n",
       "  <tbody>\n",
       "    <tr>\n",
       "      <th>1</th>\n",
       "      <td>ch1.pdf</td>\n",
       "      <td>19</td>\n",
       "      <td>Chapter1\\n\\nDataMining\\n\\nInthisintoductorycha...</td>\n",
       "    </tr>\n",
       "    <tr>\n",
       "      <th>2</th>\n",
       "      <td>data-mining-concepts-and-techniques-2nd-editio...</td>\n",
       "      <td>770</td>\n",
       "      <td>TheMorganKaufmannSeriesinDataManagementSystems...</td>\n",
       "    </tr>\n",
       "    <tr>\n",
       "      <th>3</th>\n",
       "      <td>Data-Mining.pdf</td>\n",
       "      <td>24</td>\n",
       "      <td>Computer Science\\nAbout the Book\\n˜ is textboo...</td>\n",
       "    </tr>\n",
       "    <tr>\n",
       "      <th>4</th>\n",
       "      <td>DSA_Book.pdf</td>\n",
       "      <td>462</td>\n",
       "      <td>SANJIVRANJANDAS\\nDATASCIENCE:\\nTHEORIES,\\nMODE...</td>\n",
       "    </tr>\n",
       "    <tr>\n",
       "      <th>5</th>\n",
       "      <td>NIC225296.pdf</td>\n",
       "      <td>830</td>\n",
       "      <td>PublicationSeriesoftheJohnvonNeumannInstitutef...</td>\n",
       "    </tr>\n",
       "  </tbody>\n",
       "</table>\n",
       "</div>"
      ],
      "text/plain": [
       "                                                Name Pages  \\\n",
       "1                                            ch1.pdf    19   \n",
       "2  data-mining-concepts-and-techniques-2nd-editio...   770   \n",
       "3                                    Data-Mining.pdf    24   \n",
       "4                                       DSA_Book.pdf   462   \n",
       "5                                      NIC225296.pdf   830   \n",
       "\n",
       "                                             Content  \n",
       "1  Chapter1\\n\\nDataMining\\n\\nInthisintoductorycha...  \n",
       "2  TheMorganKaufmannSeriesinDataManagementSystems...  \n",
       "3  Computer Science\\nAbout the Book\\n˜ is textboo...  \n",
       "4  SANJIVRANJANDAS\\nDATASCIENCE:\\nTHEORIES,\\nMODE...  \n",
       "5  PublicationSeriesoftheJohnvonNeumannInstitutef...  "
      ]
     },
     "execution_count": 7,
     "metadata": {},
     "output_type": "execute_result"
    }
   ],
   "source": [
    "df.head()"
   ]
  },
  {
   "cell_type": "code",
   "execution_count": null,
   "metadata": {},
   "outputs": [],
   "source": [
    "# Elasticsearch nesnesi oluşturma"
   ]
  },
  {
   "cell_type": "code",
   "execution_count": 8,
   "metadata": {},
   "outputs": [],
   "source": [
    "es = Elasticsearch()"
   ]
  },
  {
   "cell_type": "code",
   "execution_count": 9,
   "metadata": {},
   "outputs": [],
   "source": [
    "col_names=df.columns"
   ]
  },
  {
   "cell_type": "code",
   "execution_count": null,
   "metadata": {},
   "outputs": [],
   "source": [
    "# Veri çerçevesinde yineleyerek her dosya için dizin ekleme"
   ]
  },
  {
   "cell_type": "code",
   "execution_count": 10,
   "metadata": {},
   "outputs": [],
   "source": [
    "for row_number in range(df.shape[0]):\n",
    "    body = dict([(name, str(df.iloc[row_number][name])) for name in col_names])\n",
    "    es.index(index=\"elsbooktrial\",doc_type=\"books\",body=body)"
   ]
  },
  {
   "cell_type": "code",
   "execution_count": 11,
   "metadata": {},
   "outputs": [],
   "source": [
    "search_rslt = es.search(index=\"elsbooktrial\",body={\"_source\":[\"Name\",\"Pages\"],\n",
    "                                                  \"query\":{\n",
    "                                                      \"match_phrase\":{\"Content\":\"Computing\"}\n",
    "                                                  }})"
   ]
  },
  {
   "cell_type": "code",
   "execution_count": 12,
   "metadata": {
    "scrolled": true
   },
   "outputs": [
    {
     "data": {
      "text/plain": [
       "{'took': 78,\n",
       " 'timed_out': False,\n",
       " '_shards': {'total': 1, 'successful': 1, 'skipped': 0, 'failed': 0},\n",
       " 'hits': {'total': {'value': 7, 'relation': 'eq'},\n",
       "  'max_score': 0.83708656,\n",
       "  'hits': [{'_index': 'elsbooktrial',\n",
       "    '_type': 'books',\n",
       "    '_id': 'DkPl_3kBVMLjcXNPZoaI',\n",
       "    '_score': 0.83708656,\n",
       "    '_source': {'Pages': '186', 'Name': 'Parallel computing.pdf'}},\n",
       "   {'_index': 'elsbooktrial',\n",
       "    '_type': 'books',\n",
       "    '_id': 'DUPl_3kBVMLjcXNPZoYJ',\n",
       "    '_score': 0.751288,\n",
       "    '_source': {'Pages': '830', 'Name': 'NIC225296.pdf'}},\n",
       "   {'_index': 'elsbooktrial',\n",
       "    '_type': 'books',\n",
       "    '_id': 'EkPl_3kBVMLjcXNPZ4YQ',\n",
       "    '_score': 0.6758751,\n",
       "    '_source': {'Pages': '234', 'Name': 'thebook.pdf'}},\n",
       "   {'_index': 'elsbooktrial',\n",
       "    '_type': 'books',\n",
       "    '_id': 'EEPl_3kBVMLjcXNPZob9',\n",
       "    '_score': 0.63997686,\n",
       "    '_source': {'Pages': '50',\n",
       "     'Name': 's9449-building-a-distributed-gpu-dataframe-with-python_V2.pdf'}},\n",
       "   {'_index': 'elsbooktrial',\n",
       "    '_type': 'books',\n",
       "    '_id': 'DEPl_3kBVMLjcXNPZYaq',\n",
       "    '_score': 0.4933962,\n",
       "    '_source': {'Pages': '462', 'Name': 'DSA_Book.pdf'}},\n",
       "   {'_index': 'elsbooktrial',\n",
       "    '_type': 'books',\n",
       "    '_id': 'CkPl_3kBVMLjcXNPZIb1',\n",
       "    '_score': 0.45706597,\n",
       "    '_source': {'Pages': '770',\n",
       "     'Name': 'data-mining-concepts-and-techniques-2nd-edition-impressao.pdf'}},\n",
       "   {'_index': 'elsbooktrial',\n",
       "    '_type': 'books',\n",
       "    '_id': 'D0Pl_3kBVMLjcXNPZoa5',\n",
       "    '_score': 0.39041945,\n",
       "    '_source': {'Pages': '427', 'Name': 'pyspark.pdf'}}]}}"
      ]
     },
     "execution_count": 12,
     "metadata": {},
     "output_type": "execute_result"
    }
   ],
   "source": [
    "search_rslt"
   ]
  }
 ],
 "metadata": {
  "kernelspec": {
   "display_name": "Python 3",
   "language": "python",
   "name": "python3"
  },
  "language_info": {
   "codemirror_mode": {
    "name": "ipython",
    "version": 3
   },
   "file_extension": ".py",
   "mimetype": "text/x-python",
   "name": "python",
   "nbconvert_exporter": "python",
   "pygments_lexer": "ipython3",
   "version": "3.8.5"
  }
 },
 "nbformat": 4,
 "nbformat_minor": 2
}
