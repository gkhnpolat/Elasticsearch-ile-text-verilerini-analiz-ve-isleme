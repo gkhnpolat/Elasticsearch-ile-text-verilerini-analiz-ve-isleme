{
 "cells": [
  {
   "cell_type": "code",
   "execution_count": 1,
   "metadata": {},
   "outputs": [],
   "source": [
    "# Program, Python kullanarak elastik aramada her pdf dosyasının indeksini oluşturmaktır."
   ]
  },
  {
   "cell_type": "code",
   "execution_count": 3,
   "metadata": {},
   "outputs": [],
   "source": [
    "# Burada gerekli paketi içe aktardım\n",
    "     #-> Dizin oluşturmak ve aramak için Elasticsearch\n",
    "     #-> os ve glob dizini ayarlamak ve tüm pdf dosyaları dizinine erişim sağlamak için\n",
    "     #-> PyPDF2, tüm pdf dosyalarını okumanın anahtarıdır\n",
    "     #-> Ve Pandas, okunan metinden veri çerçevesi oluşturma paketidir."
   ]
  },
  {
   "cell_type": "code",
   "execution_count": 4,
   "metadata": {},
   "outputs": [],
   "source": [
    "from elasticsearch import Elasticsearch\n",
    "import os\n",
    "import glob\n",
    "import PyPDF2\n",
    "import pandas as pd"
   ]
  },
  {
   "cell_type": "code",
   "execution_count": 5,
   "metadata": {},
   "outputs": [],
   "source": [
    "# karakter işlevi, okunan pdf dosyalarından veri çerçevesini oluşturur"
   ]
  },
  {
   "cell_type": "code",
   "execution_count": 6,
   "metadata": {},
   "outputs": [],
   "source": [
    "os.chdir(\"./Books/\")\n",
    "files = glob.glob(\"*.*\")"
   ]
  },
  {
   "cell_type": "code",
   "execution_count": 7,
   "metadata": {},
   "outputs": [
    {
     "data": {
      "text/plain": [
       "12"
      ]
     },
     "execution_count": 7,
     "metadata": {},
     "output_type": "execute_result"
    }
   ],
   "source": [
    "len(files)"
   ]
  },
  {
   "cell_type": "code",
   "execution_count": 8,
   "metadata": {
    "scrolled": true
   },
   "outputs": [
    {
     "name": "stdout",
     "output_type": "stream",
     "text": [
      "ch1.pdf\n",
      "data-mining-concepts-and-techniques-2nd-edition-impressao.pdf\n",
      "Data-Mining.pdf\n",
      "DSA_Book.pdf\n",
      "NIC225296.pdf\n",
      "Parallel computing.pdf\n",
      "pyspark.pdf\n",
      "s9449-building-a-distributed-gpu-dataframe-with-python_V2.pdf\n",
      "s9577-rapids-the-platform-inside-and-out.pdf\n",
      "The Confessions Of Saint Augustine.pdf\n",
      "thebook.pdf\n",
      "[Joel_Grus]_Data_Science_from_Scratch_First_Princ.pdf\n"
     ]
    }
   ],
   "source": [
    "for book in files:\n",
    "    print(book)"
   ]
  },
  {
   "cell_type": "code",
   "execution_count": 9,
   "metadata": {},
   "outputs": [],
   "source": [
    "# aşağıdaki işlev, okunan pdf dosyalarından veri çerçevesi oluşturur"
   ]
  },
  {
   "cell_type": "code",
   "execution_count": 10,
   "metadata": {},
   "outputs": [],
   "source": [
    "def create_dataframe(files):\n",
    "    this_loc = 1\n",
    "    df = pd.DataFrame(columns=['Name',\"Pages\",\"Content\"])\n",
    "    \n",
    "    for file in files:\n",
    "        pdfFileObj = open(file,'rb')\n",
    "        pdfreader = PyPDF2.PdfFileReader(pdfFileObj)\n",
    "        n_pages = pdfreader.numPages\n",
    "        this_doc = ''\n",
    "        for i in range(n_pages):\n",
    "            pageObj = pdfreader.getPage(i)\n",
    "            this_doc += pageObj.extractText()\n",
    "        df.loc[this_loc]= file, pdfreader.getNumPages(),this_doc\n",
    "        this_loc = this_loc + 1\n",
    "    return df"
   ]
  },
  {
   "cell_type": "code",
   "execution_count": 11,
   "metadata": {},
   "outputs": [
    {
     "name": "stderr",
     "output_type": "stream",
     "text": [
      "PdfReadWarning: Xref table not zero-indexed. ID numbers for objects will be corrected. [pdf.py:1736]\n"
     ]
    }
   ],
   "source": [
    "df = create_dataframe(files)"
   ]
  },
  {
   "cell_type": "code",
   "execution_count": 12,
   "metadata": {},
   "outputs": [
    {
     "data": {
      "text/html": [
       "<div>\n",
       "<style scoped>\n",
       "    .dataframe tbody tr th:only-of-type {\n",
       "        vertical-align: middle;\n",
       "    }\n",
       "\n",
       "    .dataframe tbody tr th {\n",
       "        vertical-align: top;\n",
       "    }\n",
       "\n",
       "    .dataframe thead th {\n",
       "        text-align: right;\n",
       "    }\n",
       "</style>\n",
       "<table border=\"1\" class=\"dataframe\">\n",
       "  <thead>\n",
       "    <tr style=\"text-align: right;\">\n",
       "      <th></th>\n",
       "      <th>Name</th>\n",
       "      <th>Pages</th>\n",
       "      <th>Content</th>\n",
       "    </tr>\n",
       "  </thead>\n",
       "  <tbody>\n",
       "    <tr>\n",
       "      <th>1</th>\n",
       "      <td>ch1.pdf</td>\n",
       "      <td>19</td>\n",
       "      <td>Chapter1\\n\\nDataMining\\n\\nInthisintoductorycha...</td>\n",
       "    </tr>\n",
       "    <tr>\n",
       "      <th>2</th>\n",
       "      <td>data-mining-concepts-and-techniques-2nd-editio...</td>\n",
       "      <td>770</td>\n",
       "      <td>TheMorganKaufmannSeriesinDataManagementSystems...</td>\n",
       "    </tr>\n",
       "    <tr>\n",
       "      <th>3</th>\n",
       "      <td>Data-Mining.pdf</td>\n",
       "      <td>24</td>\n",
       "      <td>Computer Science\\nAbout the Book\\n˜ is textboo...</td>\n",
       "    </tr>\n",
       "    <tr>\n",
       "      <th>4</th>\n",
       "      <td>DSA_Book.pdf</td>\n",
       "      <td>462</td>\n",
       "      <td>SANJIVRANJANDAS\\nDATASCIENCE:\\nTHEORIES,\\nMODE...</td>\n",
       "    </tr>\n",
       "    <tr>\n",
       "      <th>5</th>\n",
       "      <td>NIC225296.pdf</td>\n",
       "      <td>830</td>\n",
       "      <td>PublicationSeriesoftheJohnvonNeumannInstitutef...</td>\n",
       "    </tr>\n",
       "  </tbody>\n",
       "</table>\n",
       "</div>"
      ],
      "text/plain": [
       "                                                Name Pages  \\\n",
       "1                                            ch1.pdf    19   \n",
       "2  data-mining-concepts-and-techniques-2nd-editio...   770   \n",
       "3                                    Data-Mining.pdf    24   \n",
       "4                                       DSA_Book.pdf   462   \n",
       "5                                      NIC225296.pdf   830   \n",
       "\n",
       "                                             Content  \n",
       "1  Chapter1\\n\\nDataMining\\n\\nInthisintoductorycha...  \n",
       "2  TheMorganKaufmannSeriesinDataManagementSystems...  \n",
       "3  Computer Science\\nAbout the Book\\n˜ is textboo...  \n",
       "4  SANJIVRANJANDAS\\nDATASCIENCE:\\nTHEORIES,\\nMODE...  \n",
       "5  PublicationSeriesoftheJohnvonNeumannInstitutef...  "
      ]
     },
     "execution_count": 12,
     "metadata": {},
     "output_type": "execute_result"
    }
   ],
   "source": [
    "df.head()"
   ]
  },
  {
   "cell_type": "code",
   "execution_count": 13,
   "metadata": {},
   "outputs": [],
   "source": [
    "# Elasticsearch nesnesi oluşturma"
   ]
  },
  {
   "cell_type": "code",
   "execution_count": 14,
   "metadata": {},
   "outputs": [],
   "source": [
    "es = Elasticsearch()"
   ]
  },
  {
   "cell_type": "code",
   "execution_count": 15,
   "metadata": {},
   "outputs": [],
   "source": [
    "col_names=df.columns"
   ]
  },
  {
   "cell_type": "code",
   "execution_count": 16,
   "metadata": {},
   "outputs": [],
   "source": [
    "# Veri çerçevesinde yineleyerek her dosya için dizin ekleme"
   ]
  },
  {
   "cell_type": "code",
   "execution_count": 17,
   "metadata": {},
   "outputs": [],
   "source": [
    "for row_number in range(df.shape[0]):\n",
    "    body = dict([(name, str(df.iloc[row_number][name])) for name in col_names])\n",
    "    es.index(index=\"elsbooktrial\",doc_type=\"books\",body=body)"
   ]
  },
  {
   "cell_type": "code",
   "execution_count": 18,
   "metadata": {},
   "outputs": [],
   "source": [
    "search_rslt = es.search(index=\"elsbooktrial\",body={\"_source\":[\"Name\",\"Pages\"],\n",
    "                                                  \"query\":{\n",
    "                                                      \"match_phrase\":{\"Content\":\"Computing\"}\n",
    "                                                  }})"
   ]
  },
  {
   "cell_type": "code",
   "execution_count": 19,
   "metadata": {
    "scrolled": true
   },
   "outputs": [
    {
     "data": {
      "text/plain": [
       "{'took': 1549,\n",
       " 'timed_out': False,\n",
       " '_shards': {'total': 1, 'successful': 1, 'skipped': 0, 'failed': 0},\n",
       " 'hits': {'total': {'value': 14, 'relation': 'eq'},\n",
       "  'max_score': 0.91169894,\n",
       "  'hits': [{'_index': 'elsbooktrial',\n",
       "    '_type': 'books',\n",
       "    '_id': 'DkPl_3kBVMLjcXNPZoaI',\n",
       "    '_score': 0.91169894,\n",
       "    '_source': {'Pages': '186', 'Name': 'Parallel computing.pdf'}},\n",
       "   {'_index': 'elsbooktrial',\n",
       "    '_type': 'books',\n",
       "    '_id': 'GUMaAXoBVMLjcXNPAoYT',\n",
       "    '_score': 0.91169894,\n",
       "    '_source': {'Pages': '186', 'Name': 'Parallel computing.pdf'}},\n",
       "   {'_index': 'elsbooktrial',\n",
       "    '_type': 'books',\n",
       "    '_id': 'DUPl_3kBVMLjcXNPZoYJ',\n",
       "    '_score': 0.82565004,\n",
       "    '_source': {'Pages': '830', 'Name': 'NIC225296.pdf'}},\n",
       "   {'_index': 'elsbooktrial',\n",
       "    '_type': 'books',\n",
       "    '_id': 'GEMaAXoBVMLjcXNPAYaQ',\n",
       "    '_score': 0.82565004,\n",
       "    '_source': {'Pages': '830', 'Name': 'NIC225296.pdf'}},\n",
       "   {'_index': 'elsbooktrial',\n",
       "    '_type': 'books',\n",
       "    '_id': 'EkPl_3kBVMLjcXNPZ4YQ',\n",
       "    '_score': 0.7461635,\n",
       "    '_source': {'Pages': '234', 'Name': 'thebook.pdf'}},\n",
       "   {'_index': 'elsbooktrial',\n",
       "    '_type': 'books',\n",
       "    '_id': 'HkMaAXoBVMLjcXNPAobr',\n",
       "    '_score': 0.7461635,\n",
       "    '_source': {'Pages': '234', 'Name': 'thebook.pdf'}},\n",
       "   {'_index': 'elsbooktrial',\n",
       "    '_type': 'books',\n",
       "    '_id': 'EEPl_3kBVMLjcXNPZob9',\n",
       "    '_score': 0.69752073,\n",
       "    '_source': {'Pages': '50',\n",
       "     'Name': 's9449-building-a-distributed-gpu-dataframe-with-python_V2.pdf'}},\n",
       "   {'_index': 'elsbooktrial',\n",
       "    '_type': 'books',\n",
       "    '_id': 'G0MaAXoBVMLjcXNPAoaK',\n",
       "    '_score': 0.69752073,\n",
       "    '_source': {'Pages': '50',\n",
       "     'Name': 's9449-building-a-distributed-gpu-dataframe-with-python_V2.pdf'}},\n",
       "   {'_index': 'elsbooktrial',\n",
       "    '_type': 'books',\n",
       "    '_id': 'DEPl_3kBVMLjcXNPZYaq',\n",
       "    '_score': 0.5555447,\n",
       "    '_source': {'Pages': '462', 'Name': 'DSA_Book.pdf'}},\n",
       "   {'_index': 'elsbooktrial',\n",
       "    '_type': 'books',\n",
       "    '_id': 'F0MaAXoBVMLjcXNPAYY6',\n",
       "    '_score': 0.5555447,\n",
       "    '_source': {'Pages': '462', 'Name': 'DSA_Book.pdf'}}]}}"
      ]
     },
     "execution_count": 19,
     "metadata": {},
     "output_type": "execute_result"
    }
   ],
   "source": [
    "search_rslt"
   ]
  },
  {
   "cell_type": "code",
   "execution_count": 35,
   "metadata": {},
   "outputs": [],
   "source": [
    "from elasticsearch import Elasticsearch\n",
    "from random import randint"
   ]
  },
  {
   "cell_type": "code",
   "execution_count": 36,
   "metadata": {},
   "outputs": [],
   "source": [
    "class Book:\n",
    "    def __init__(self, book_id: int, title: str, author: object, sub_title = None):\n",
    "        self.book_id = book_id\n",
    "        self.title = title,\n",
    "        self.sub_title = sub_title\n",
    "        self.author = author\n",
    "        self.raw_text = None\n",
    "        self.sentence_delimiter = '.'\n",
    "        self.paragraph_delimiter = '\\n\\n\\n'\n",
    "        self.paragraphs = None\n",
    "        self.indexed_paragraphs = []\n",
    "\n",
    "    def load_raw_text(self):\n",
    "        with open('The Confessions Of Saint Augustine.txt'.format(book=self.book_id)) as f:\n",
    "            self.raw_text = f.read()\n",
    "\n",
    "    def split_text_into_paragraphs(self):\n",
    "        self.paragraphs = self.raw_text.split(self.paragraph_delimiter)\n",
    "        self.raw_text = None\n",
    "\n",
    "    def index_paragraphs(self):\n",
    "        p_counter = 1\n",
    "        for paragraph in self.paragraphs:\n",
    "            self.indexed_paragraphs.append({\"index\": p_counter, \"paragraph\": paragraph})\n",
    "            p_counter += 1\n",
    "        self.paragraphs = None\n",
    "\n",
    "    def split_paragraphs_into_sentences(self):\n",
    "        s_counter = 1\n",
    "        for paragraph in self.indexed_paragraphs:\n",
    "            sentences = paragraph[\"paragraph\"].split(self.sentence_delimiter)\n",
    "            for sentence in sentences:\n",
    "                s_counter += 1\n",
    "                elastic_book_packet = self.create_data_packet(paragraph, s_counter, sentence)\n",
    "            yield elastic_book_packet\n",
    "        self.indexed_paragraphs = None\n",
    "\n",
    "    def create_data_packet(self, paragraph, s_counter, sentence):\n",
    "        return {\"book_id\": self.book_id,\n",
    "                \"author_id\": self.author.author_id,\n",
    "                \"category\": self.author.category,\n",
    "                \"chapter_id\": 0,\n",
    "                \"paragraph\": paragraph[\"index\"],\n",
    "                \"sentence_id\": s_counter,\n",
    "                \"sentence_text\": sentence.replace('\\n', '')}"
   ]
  },
  {
   "cell_type": "code",
   "execution_count": 37,
   "metadata": {},
   "outputs": [],
   "source": [
    "class Author:\n",
    "    def __init__(self, first_name: str, last_name: str, category: str, middle_name = None):\n",
    "        self.first_name = first_name\n",
    "        self.last_name = last_name\n",
    "        self.middle_name = middle_name\n",
    "        self.category = category\n",
    "        self.author_id = randint(1,10000)"
   ]
  },
  {
   "cell_type": "code",
   "execution_count": 38,
   "metadata": {},
   "outputs": [],
   "source": [
    "class ElasticSink:\n",
    "    def __init__(self):\n",
    "        try:\n",
    "            self.client = Elasticsearch()\n",
    "        except Exception as e:\n",
    "            print('Sorry, problem trying to create Elasticsearch client.')\n",
    "            exit(1)\n",
    "\n",
    "    def index_document(self, data_packet: dict, index='books', doc_type='sentence'):\n",
    "        unique_index_id = '{book_id}_{sentence_id}'.format(book_id=data_packet[\"book_id\"],\n",
    "                                                           sentence_id=data_packet[\"sentence_id\"])\n",
    "        try:\n",
    "            response = self.client.index(index=index,\n",
    "                                     doc_type=doc_type,\n",
    "                                     body=data_packet,\n",
    "                                     id=unique_index_id)\n",
    "            print(response)\n",
    "        except Exception as e:\n",
    "            print(f'Something went wrong and I could not index.. {data_packet}')\n",
    "\n",
    "    def search_for_word_match(self, word: str, index: str, field: str):\n",
    "        result = self.client.search(index=index,body={'query':{'match':{field:word}}})\n",
    "        for hit in result[\"hits\"]:\n",
    "            print(hit)\n",
    "\n",
    "    def search_and_filter(self, index: str, field: str, word: str, author_id: str):\n",
    "        result = self.client.search(index=index,\n",
    "                                    body={\n",
    "                                      \"query\": {\n",
    "                                             \"bool\" : {\n",
    "                                                  \"must\" : [{\"term\" : {field : word}},],\n",
    "                                                  \"filter\": [{\"term\" : {\"author_id\" : author_id}}]\n",
    "                                                  }\n",
    "                                      }\n",
    "                                    }\n",
    "\n",
    "                                )\n",
    "        for hit in result[\"hits\"]:\n",
    "            print(hit)"
   ]
  },
  {
   "cell_type": "code",
   "execution_count": 39,
   "metadata": {},
   "outputs": [
    {
     "ename": "FileNotFoundError",
     "evalue": "[Errno 2] No such file or directory: 'The Confessions Of Saint Augustine.txt'",
     "output_type": "error",
     "traceback": [
      "\u001b[1;31m---------------------------------------------------------------------------\u001b[0m",
      "\u001b[1;31mFileNotFoundError\u001b[0m                         Traceback (most recent call last)",
      "\u001b[1;32m<ipython-input-39-dc4979ae0ee4>\u001b[0m in \u001b[0;36m<module>\u001b[1;34m\u001b[0m\n\u001b[0;32m      6\u001b[0m              \u001b[0mtitle\u001b[0m\u001b[1;33m=\u001b[0m\u001b[1;34m'The Confessions Of Saint Augustine'\u001b[0m\u001b[1;33m,\u001b[0m\u001b[1;33m\u001b[0m\u001b[1;33m\u001b[0m\u001b[0m\n\u001b[0;32m      7\u001b[0m              author=a)\n\u001b[1;32m----> 8\u001b[1;33m     \u001b[0mb\u001b[0m\u001b[1;33m.\u001b[0m\u001b[0mload_raw_text\u001b[0m\u001b[1;33m(\u001b[0m\u001b[1;33m)\u001b[0m\u001b[1;33m\u001b[0m\u001b[1;33m\u001b[0m\u001b[0m\n\u001b[0m\u001b[0;32m      9\u001b[0m     \u001b[0mb\u001b[0m\u001b[1;33m.\u001b[0m\u001b[0msplit_text_into_paragraphs\u001b[0m\u001b[1;33m(\u001b[0m\u001b[1;33m)\u001b[0m\u001b[1;33m\u001b[0m\u001b[1;33m\u001b[0m\u001b[0m\n\u001b[0;32m     10\u001b[0m     \u001b[0mb\u001b[0m\u001b[1;33m.\u001b[0m\u001b[0mindex_paragraphs\u001b[0m\u001b[1;33m(\u001b[0m\u001b[1;33m)\u001b[0m\u001b[1;33m\u001b[0m\u001b[1;33m\u001b[0m\u001b[0m\n",
      "\u001b[1;32m<ipython-input-36-8ad7ba067cb8>\u001b[0m in \u001b[0;36mload_raw_text\u001b[1;34m(self)\u001b[0m\n\u001b[0;32m     12\u001b[0m \u001b[1;33m\u001b[0m\u001b[0m\n\u001b[0;32m     13\u001b[0m     \u001b[1;32mdef\u001b[0m \u001b[0mload_raw_text\u001b[0m\u001b[1;33m(\u001b[0m\u001b[0mself\u001b[0m\u001b[1;33m)\u001b[0m\u001b[1;33m:\u001b[0m\u001b[1;33m\u001b[0m\u001b[1;33m\u001b[0m\u001b[0m\n\u001b[1;32m---> 14\u001b[1;33m         \u001b[1;32mwith\u001b[0m \u001b[0mopen\u001b[0m\u001b[1;33m(\u001b[0m\u001b[1;34m'The Confessions Of Saint Augustine.txt'\u001b[0m\u001b[1;33m.\u001b[0m\u001b[0mformat\u001b[0m\u001b[1;33m(\u001b[0m\u001b[0mbook\u001b[0m\u001b[1;33m=\u001b[0m\u001b[0mself\u001b[0m\u001b[1;33m.\u001b[0m\u001b[0mbook_id\u001b[0m\u001b[1;33m)\u001b[0m\u001b[1;33m)\u001b[0m \u001b[1;32mas\u001b[0m \u001b[0mf\u001b[0m\u001b[1;33m:\u001b[0m\u001b[1;33m\u001b[0m\u001b[1;33m\u001b[0m\u001b[0m\n\u001b[0m\u001b[0;32m     15\u001b[0m             \u001b[0mself\u001b[0m\u001b[1;33m.\u001b[0m\u001b[0mraw_text\u001b[0m \u001b[1;33m=\u001b[0m \u001b[0mf\u001b[0m\u001b[1;33m.\u001b[0m\u001b[0mread\u001b[0m\u001b[1;33m(\u001b[0m\u001b[1;33m)\u001b[0m\u001b[1;33m\u001b[0m\u001b[1;33m\u001b[0m\u001b[0m\n\u001b[0;32m     16\u001b[0m \u001b[1;33m\u001b[0m\u001b[0m\n",
      "\u001b[1;31mFileNotFoundError\u001b[0m: [Errno 2] No such file or directory: 'The Confessions Of Saint Augustine.txt'"
     ]
    }
   ],
   "source": [
    "if __name__ == '__main__':\n",
    "    a = Author(first_name='St.',\n",
    "               last_name='Augustine',\n",
    "               category='Early Church Father')\n",
    "    b = Book(book_id=3296,\n",
    "             title='The Confessions Of Saint Augustine',\n",
    "             author=a)\n",
    "    b.load_raw_text()\n",
    "    b.split_text_into_paragraphs()\n",
    "    b.index_paragraphs()\n",
    "    packets = b.split_paragraphs_into_sentences()\n",
    "    es = ElasticSink()\n",
    "    for packet in packets:\n",
    "        es.index_document(packet)\n",
    "    es.search_for_word_match(word='faith',\n",
    "                             index='books',\n",
    "                             field='sentence_text')\n",
    "    es.search_and_filter(word='faith',\n",
    "                             index='books',\n",
    "                             field='sentence_text',\n",
    "                             author_id=1168)"
   ]
  },
  {
   "cell_type": "code",
   "execution_count": null,
   "metadata": {},
   "outputs": [],
   "source": []
  }
 ],
 "metadata": {
  "kernelspec": {
   "display_name": "Python 3",
   "language": "python",
   "name": "python3"
  },
  "language_info": {
   "codemirror_mode": {
    "name": "ipython",
    "version": 3
   },
   "file_extension": ".py",
   "mimetype": "text/x-python",
   "name": "python",
   "nbconvert_exporter": "python",
   "pygments_lexer": "ipython3",
   "version": "3.8.5"
  }
 },
 "nbformat": 4,
 "nbformat_minor": 2
}
